{
 "cells": [
  {
   "cell_type": "code",
   "execution_count": 1,
   "metadata": {},
   "outputs": [],
   "source": [
    "import os\n",
    "client_id = os.environ.get('CLIENT_ID')\n",
    "client_secret = os.environ.get('CLIENT_SECRET')"
   ]
  },
  {
   "cell_type": "code",
   "execution_count": 2,
   "metadata": {},
   "outputs": [],
   "source": [
    "import json, requests"
   ]
  },
  {
   "cell_type": "code",
   "execution_count": 3,
   "metadata": {
    "pycharm": {
     "name": "#%%\n"
    }
   },
   "outputs": [],
   "source": [
    "url = 'https://api.foursquare.com/v2/venues/explore'"
   ]
  },
  {
   "cell_type": "code",
   "execution_count": 4,
   "metadata": {},
   "outputs": [],
   "source": [
    "params = dict(\n",
    "client_id= client_id,\n",
    "client_secret= client_secret,\n",
    "v='20180323',\n",
    "ll='40.7243,-74.0018',\n",
    "query='coffee',\n",
    "limit=1\n",
    ")"
   ]
  },
  {
   "cell_type": "code",
   "execution_count": 5,
   "metadata": {},
   "outputs": [],
   "source": [
    "resp = requests.get(url=url, params=params)\n",
    "data = json.loads(resp.text)"
   ]
  },
  {
   "cell_type": "code",
   "execution_count": 6,
   "metadata": {
    "pycharm": {
     "name": "#%%\n"
    }
   },
   "outputs": [
    {
     "data": {
      "text/plain": [
       "{'meta': {'code': 200, 'requestId': '5f178cacd8d6542aaadbba10'},\n",
       " 'response': {'suggestedFilters': {'header': 'Tap to show:',\n",
       "   'filters': [{'name': '$-$$$$', 'key': 'price'},\n",
       "    {'name': 'Open now', 'key': 'openNow'}]},\n",
       "  'warning': {'text': 'There aren\\'t a lot of results for \"coffee.\" Try something more general, reset your filters, or expand the search area.'},\n",
       "  'suggestedRadius': 600,\n",
       "  'headerLocation': 'SoHo',\n",
       "  'headerFullLocation': 'SoHo, New York',\n",
       "  'headerLocationGranularity': 'neighborhood',\n",
       "  'query': 'coffee',\n",
       "  'totalResults': 63,\n",
       "  'suggestedBounds': {'ne': {'lat': 40.727318083147175,\n",
       "    'lng': -74.00258497963885},\n",
       "   'sw': {'lat': 40.724618423361726, 'lng': -73.99986745215081}},\n",
       "  'groups': [{'type': 'Recommended Places',\n",
       "    'name': 'recommended',\n",
       "    'items': [{'reasons': {'count': 0,\n",
       "       'items': [{'summary': 'This spot is popular',\n",
       "         'type': 'general',\n",
       "         'reasonName': 'globalInteractionReason'}]},\n",
       "      'venue': {'id': '56cb2d99498eb620bee31423',\n",
       "       'name': 'Rapha NYC',\n",
       "       'contact': {},\n",
       "       'location': {'address': '159 Prince St',\n",
       "        'lat': 40.72596825325445,\n",
       "        'lng': -74.00122621589483,\n",
       "        'labeledLatLngs': [{'label': 'display',\n",
       "          'lat': 40.72596825325445,\n",
       "          'lng': -74.00122621589483}],\n",
       "        'distance': 191,\n",
       "        'postalCode': '10012',\n",
       "        'cc': 'US',\n",
       "        'city': 'New York',\n",
       "        'state': 'NY',\n",
       "        'country': 'United States',\n",
       "        'formattedAddress': ['159 Prince St',\n",
       "         'New York, NY 10012',\n",
       "         'United States']},\n",
       "       'categories': [{'id': '4bf58dd8d48988d103951735',\n",
       "         'name': 'Clothing Store',\n",
       "         'pluralName': 'Clothing Stores',\n",
       "         'shortName': 'Apparel',\n",
       "         'icon': {'prefix': 'https://ss3.4sqi.net/img/categories_v2/shops/apparel_',\n",
       "          'suffix': '.png'},\n",
       "         'primary': True}],\n",
       "       'verified': False,\n",
       "       'stats': {'tipCount': 0,\n",
       "        'usersCount': 0,\n",
       "        'checkinsCount': 0,\n",
       "        'visitsCount': 0},\n",
       "       'beenHere': {'count': 0,\n",
       "        'lastCheckinExpiredAt': 0,\n",
       "        'marked': False,\n",
       "        'unconfirmedCount': 0},\n",
       "       'photos': {'count': 0, 'groups': []},\n",
       "       'hereNow': {'count': 0, 'summary': 'Nobody here', 'groups': []}},\n",
       "      'referralId': 'e-0-56cb2d99498eb620bee31423-0'}]}]}}"
      ]
     },
     "execution_count": 6,
     "metadata": {},
     "output_type": "execute_result"
    }
   ],
   "source": [
    "data"
   ]
  },
  {
   "cell_type": "code",
   "execution_count": null,
   "metadata": {
    "pycharm": {
     "name": "#%%\n"
    }
   },
   "outputs": [],
   "source": [
    "print(os.getenv('MY_TOKEN', 'Token Not found'))"
   ]
  },
  {
   "cell_type": "code",
   "execution_count": null,
   "metadata": {
    "pycharm": {
     "name": "#%%\n"
    }
   },
   "outputs": [],
   "source": []
  },
  {
   "cell_type": "code",
   "execution_count": null,
   "metadata": {},
   "outputs": [],
   "source": []
  },
  {
   "cell_type": "code",
   "execution_count": null,
   "metadata": {},
   "outputs": [],
   "source": []
  }
 ],
 "metadata": {
  "kernelspec": {
   "display_name": "Python 3",
   "language": "python",
   "name": "python3"
  },
  "language_info": {
   "codemirror_mode": {
    "name": "ipython",
    "version": 3
   },
   "file_extension": ".py",
   "mimetype": "text/x-python",
   "name": "python",
   "nbconvert_exporter": "python",
   "pygments_lexer": "ipython3",
   "version": "3.8.2"
  }
 },
 "nbformat": 4,
 "nbformat_minor": 4
}
